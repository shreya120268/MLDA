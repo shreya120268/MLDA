{
  "nbformat": 4,
  "nbformat_minor": 0,
  "metadata": {
    "colab": {
      "provenance": [],
      "authorship_tag": "ABX9TyOcUgq3glmM/bLaimJThN0J",
      "include_colab_link": true
    },
    "kernelspec": {
      "name": "python3",
      "display_name": "Python 3"
    },
    "language_info": {
      "name": "python"
    }
  },
  "cells": [
    {
      "cell_type": "markdown",
      "metadata": {
        "id": "view-in-github",
        "colab_type": "text"
      },
      "source": [
        "<a href=\"https://colab.research.google.com/github/shreya120268/MLDA/blob/main/T3_Cross_Validation.ipynb\" target=\"_parent\"><img src=\"https://colab.research.google.com/assets/colab-badge.svg\" alt=\"Open In Colab\"/></a>"
      ]
    },
    {
      "cell_type": "code",
      "execution_count": 1,
      "metadata": {
        "colab": {
          "base_uri": "https://localhost:8080/"
        },
        "id": "54Qf6d34DgPz",
        "outputId": "eb8eaebc-81ae-4e77-fe96-9c7f2618aa76"
      },
      "outputs": [
        {
          "output_type": "stream",
          "name": "stdout",
          "text": [
            "Cross Validation Scores:  [1.         1.         1.         0.93333333 0.93333333 0.86666667\n",
            " 1.         0.86666667 0.93333333 1.        ]\n",
            "Cross Validation Scores:  [1.         1.         1.         1.         0.93333333 0.86666667\n",
            " 1.         0.86666667 0.86666667 0.93333333]\n",
            "Average CV Score:  0.9533333333333334\n",
            "Average CV Score:  0.9466666666666667\n",
            "Number of CV Scores used in Average:  10\n",
            "Number of CV Scores used in Average:  10\n"
          ]
        }
      ],
      "source": [
        "from sklearn import datasets\n",
        "from sklearn.tree import DecisionTreeClassifier\n",
        "from sklearn.linear_model import LogisticRegression\n",
        "from sklearn.model_selection import KFold,cross_val_score\n",
        "X, y = datasets.load_iris(return_X_y=True)\n",
        "clf1 = DecisionTreeClassifier(random_state=42)\n",
        "clf2 = LogisticRegression(max_iter=1000)\n",
        "k_folds = KFold(n_splits = 10)\n",
        "scores1 = cross_val_score(clf1, X, y, cv = k_folds)\n",
        "scores2 = cross_val_score(clf2, X, y, cv = k_folds)\n",
        "print(\"Cross Validation Scores: \", scores1)\n",
        "print(\"Cross Validation Scores: \", scores2)\n",
        "print(\"Average CV Score: \", scores1.mean())\n",
        "print(\"Average CV Score: \", scores2.mean())\n",
        "print(\"Number of CV Scores used in Average: \",len(scores1))\n",
        "print(\"Number of CV Scores used in Average: \",len(scores2))"
      ]
    }
  ]
}