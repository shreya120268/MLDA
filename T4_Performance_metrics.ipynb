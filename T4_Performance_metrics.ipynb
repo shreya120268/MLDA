{
  "nbformat": 4,
  "nbformat_minor": 0,
  "metadata": {
    "colab": {
      "provenance": [],
      "authorship_tag": "ABX9TyOAW7fs5dAp2soXkgMPhxMy",
      "include_colab_link": true
    },
    "kernelspec": {
      "name": "python3",
      "display_name": "Python 3"
    },
    "language_info": {
      "name": "python"
    }
  },
  "cells": [
    {
      "cell_type": "markdown",
      "metadata": {
        "id": "view-in-github",
        "colab_type": "text"
      },
      "source": [
        "<a href=\"https://colab.research.google.com/github/shreya120268/MLDA/blob/main/T4_Performance_metrics.ipynb\" target=\"_parent\"><img src=\"https://colab.research.google.com/assets/colab-badge.svg\" alt=\"Open In Colab\"/></a>"
      ]
    },
    {
      "cell_type": "code",
      "execution_count": 3,
      "metadata": {
        "colab": {
          "base_uri": "https://localhost:8080/"
        },
        "id": "Q1_WM2TRDf0r",
        "outputId": "5e3e6266-be62-439f-99f7-3d80e64efb9b"
      },
      "outputs": [
        {
          "output_type": "stream",
          "name": "stdout",
          "text": [
            "   satisfaction_level  last_evaluation  number_project  average_montly_hours  \\\n",
            "0                0.38             0.53               2                   157   \n",
            "1                0.80             0.86               5                   262   \n",
            "2                0.11             0.88               7                   272   \n",
            "3                0.72             0.87               5                   223   \n",
            "4                0.37             0.52               2                   159   \n",
            "\n",
            "   time_spend_company  Work_accident  left  promotion_last_5years  sales  \\\n",
            "0                   3              0     1                      0  sales   \n",
            "1                   6              0     1                      0  sales   \n",
            "2                   4              0     1                      0  sales   \n",
            "3                   5              0     1                      0  sales   \n",
            "4                   3              0     1                      0  sales   \n",
            "\n",
            "   salary  \n",
            "0     low  \n",
            "1  medium  \n",
            "2  medium  \n",
            "3     low  \n",
            "4     low  \n",
            "   satisfaction_level  last_evaluation  number_project  average_montly_hours  \\\n",
            "0                0.38             0.53               2                   157   \n",
            "1                0.80             0.86               5                   262   \n",
            "2                0.11             0.88               7                   272   \n",
            "3                0.72             0.87               5                   223   \n",
            "4                0.37             0.52               2                   159   \n",
            "\n",
            "   time_spend_company  Work_accident  left  promotion_last_5years  sales  \\\n",
            "0                   3              0     1                      0  sales   \n",
            "1                   6              0     1                      0  sales   \n",
            "2                   4              0     1                      0  sales   \n",
            "3                   5              0     1                      0  sales   \n",
            "4                   3              0     1                      0  sales   \n",
            "\n",
            "   salary  \n",
            "0       1  \n",
            "1       2  \n",
            "2       2  \n",
            "3       1  \n",
            "4       1  \n",
            "Accuracy: 0.979\n",
            "Linear Regression MSE: 0.14769133097781834\n",
            "Linear Regression R2: 0.20008835543583403\n"
          ]
        }
      ],
      "source": [
        "import pandas as pd\n",
        "from sklearn.preprocessing import LabelEncoder\n",
        "from sklearn.model_selection import train_test_split\n",
        "from sklearn.tree import DecisionTreeClassifier\n",
        "from sklearn.linear_model import LinearRegression\n",
        "from sklearn.metrics import accuracy_score,mean_squared_error, r2_score\n",
        "data=pd.read_csv(\"HR_comma_sep.csv\")\n",
        "print(data.head())\n",
        "le=LabelEncoder()\n",
        "data[\"salary\"]=le.fit_transform(data[\"salary\"])\n",
        "print(data.head())\n",
        "x = data[[\"satisfaction_level\",\"last_evaluation\",\"number_project\",\n",
        "          \"average_montly_hours\",\"time_spend_company\",\n",
        "          \"Work_accident\",\"promotion_last_5years\",\"salary\"]]\n",
        "x.head()\n",
        "y=data[\"left\"]\n",
        "x.head()\n",
        "x_train,x_test,y_train,y_test=train_test_split(x,y,test_size=0.2,random_state=2)\n",
        "dt=DecisionTreeClassifier(criterion=\"entropy\")\n",
        "dt.fit(x_train,y_train)\n",
        "y_dt_pred=dt.predict(x_test)\n",
        "accuracy_dt=accuracy_score(y_test,y_dt_pred)\n",
        "print(\"Accuracy:\",accuracy_dt)\n",
        "lrr = LinearRegression()\n",
        "lrr.fit(x_train, y_train)\n",
        "y_lrr_pred = lrr.predict(x_test)\n",
        "\n",
        "mse = mean_squared_error(y_test, y_lrr_pred)\n",
        "r2 = r2_score(y_test, y_lrr_pred)\n",
        "\n",
        "print(\"Linear Regression MSE:\", mse)\n",
        "print(\"Linear Regression R2:\", r2)"
      ]
    }
  ]
}